{
  "nbformat": 4,
  "nbformat_minor": 0,
  "metadata": {
    "colab": {
      "provenance": [],
      "authorship_tag": "ABX9TyOzamff3t2BNRxbaiLVdGXa",
      "include_colab_link": true
    },
    "kernelspec": {
      "name": "python3",
      "display_name": "Python 3"
    },
    "language_info": {
      "name": "python"
    }
  },
  "cells": [
    {
      "cell_type": "markdown",
      "metadata": {
        "id": "view-in-github",
        "colab_type": "text"
      },
      "source": [
        "<a href=\"https://colab.research.google.com/github/VijayTaori/Locating-the-null-values/blob/main/find_null_values_quick_compact.ipynb\" target=\"_parent\"><img src=\"https://colab.research.google.com/assets/colab-badge.svg\" alt=\"Open In Colab\"/></a>"
      ]
    },
    {
      "cell_type": "code",
      "execution_count": 2,
      "metadata": {
        "colab": {
          "base_uri": "https://localhost:8080/"
        },
        "id": "GCyXRrotE_61",
        "outputId": "1182e0d4-3cf8-4940-ab70-d32cf0843cc8"
      },
      "outputs": [
        {
          "output_type": "stream",
          "name": "stdout",
          "text": [
            "The number of null values in column Date are: 0\n",
            "And their integer location is: []\n",
            "The number of null values in column Open are: 0\n",
            "And their integer location is: []\n",
            "The number of null values in column High are: 0\n",
            "And their integer location is: []\n",
            "The number of null values in column Low are: 0\n",
            "And their integer location is: []\n",
            "The number of null values in column Close are: 0\n",
            "And their integer location is: []\n"
          ]
        }
      ],
      "source": [
        "#import pandas as pd\n",
        "#import numpy as np\n",
        "#import datetime as dt\n",
        "#df_xxx = pd.read_csv('/content/xxx.csv')\n",
        "df_find_na = df_xxx # use the DataFrame for which you would like to find NANs\n",
        "columns_df_find_na = df_find_na.columns\n",
        "def find_null_values(column_name):\n",
        "  print('The number of null values in column {} are:'.format(column_name),len(np.where(df_find_na.isna()[column_name])[0]))\n",
        "  print('And their integer location is:', np.where(df_find_na.isna()[column_name])[0])\n",
        "null_values = [find_null_values(y) for y in columns_df_find_na]"
      ]
    }
  ]
}